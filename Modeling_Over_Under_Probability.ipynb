{
 "cells": [
  {
   "cell_type": "code",
   "execution_count": 44,
   "metadata": {},
   "outputs": [],
   "source": [
    "import pandas as pd\n",
    "import numpy as np\n",
    "from sklearn.metrics import auc, roc_curve\n",
    "from sklearn.cross_validation import cross_val_score\n",
    "from sklearn.grid_search import GridSearchCV\n",
    "import matplotlib.pyplot as plt\n",
    "%matplotlib inline\n",
    "from sklearn.model_selection import train_test_split\n",
    "import itertools\n",
    "from sklearn.metrics import confusion_matrix, accuracy_score\n",
    "from sklearn import preprocessing, svm, linear_model\n",
    "from xgboost import XGBClassifier\n",
    "from sklearn.ensemble import RandomForestClassifier"
   ]
  },
  {
   "cell_type": "code",
   "execution_count": 7,
   "metadata": {},
   "outputs": [
    {
     "data": {
      "text/plain": [
       "(12878, 96)"
      ]
     },
     "execution_count": 7,
     "metadata": {},
     "output_type": "execute_result"
    }
   ],
   "source": [
    "# READING IN THE DATA\n",
    "df = pd.read_csv('../CapStone/LetsModelBaby.csv')\n",
    "df.shape"
   ]
  },
  {
   "cell_type": "code",
   "execution_count": 8,
   "metadata": {
    "collapsed": true
   },
   "outputs": [],
   "source": [
    "pd.options.display.max_columns = 999"
   ]
  },
  {
   "cell_type": "code",
   "execution_count": 9,
   "metadata": {},
   "outputs": [],
   "source": [
    "# DROPPING UNECESSARY COLUMNS\n",
    "df.drop('Unnamed: 0', axis=1, inplace=True)\n",
    "\n",
    "# PROPERLY FORMATTING DATE \n",
    "df['Date'] = pd.to_datetime(df['Date'])"
   ]
  },
  {
   "cell_type": "code",
   "execution_count": 10,
   "metadata": {
    "scrolled": false
   },
   "outputs": [
    {
     "data": {
      "text/plain": [
       "(6243, 95)"
      ]
     },
     "execution_count": 10,
     "metadata": {},
     "output_type": "execute_result"
    }
   ],
   "source": [
    "## CHECKING THE BASELINE SCORE OF HOW MANY TOTAL OVERS ARE IN THE DATAFRAME\n",
    "df.loc[df['Over hit?'] == 1].shape"
   ]
  },
  {
   "cell_type": "markdown",
   "metadata": {},
   "source": [
    "#### Baseline score for hitting the over is 48%."
   ]
  },
  {
   "cell_type": "markdown",
   "metadata": {},
   "source": [
    "### Now That Binary Outcome Columns Have Been Set, Lets Start Modeling"
   ]
  },
  {
   "cell_type": "code",
   "execution_count": null,
   "metadata": {
    "collapsed": true
   },
   "outputs": [],
   "source": [
    "### Feature Engineering"
   ]
  },
  {
   "cell_type": "code",
   "execution_count": 10,
   "metadata": {
    "collapsed": true
   },
   "outputs": [],
   "source": [
    "# Making new columns for the combined stats of each pitchings and batting stat.\n",
    "# THESE COLUMNS HAVE ALREADY BEEN SAVED IN THE DATAFRAME, WHICH IS WHY THIS SECTION IS COMMENTED OUT \n",
    "\n",
    "# df['Combined_SP_BB%'] = df['Pitcher1_BB%'] + df['Pitcher2_BB%']\n",
    "# df['Combined_SP_ERA'] = df['Pitcher1_ERA'] + df['Pitcher2_ERA']\n",
    "# df['Combined_SP_HR/9'] = df['Pitcher1_HR/9'] + df['Pitcher2_HR/9']\n",
    "# df['Combined_SP_K%'] = df['Pitcher1_K%'] + df['Pitcher2_K%']\n",
    "# df['Combined_SP_WHIP'] = df['Pitcher1_WHIP'] + df['Pitcher2_WHIP']\n",
    "# df['Combined_RBIs/Game'] = df['BattingTeam1_RBIs/Game'] + df['BattingTeam2_RBIs/Game']\n",
    "# df['Combined_Bat_AVG'] = df['BattingTeam1_AVG'] + df['BattingTeam2_AVG']\n",
    "# df['Combined_Bat_BABIP'] = df['BattingTeam1_BABIP'] + df['BattingTeam2_BABIP']\n",
    "# df['Combined_Bat_BB%'] = df['BattingTeam1_BB%'] + df['BattingTeam2_BB%']\n",
    "# df['Combined_Bat_K%'] = df['BattingTeam1_K%'] + df['BattingTeam2_K%']\n",
    "# df['Combined_Bat_OBP'] = df['BattingTeam1_OBP'] + df['BattingTeam2_OBP']\n",
    "# df['Combined_bat_slg'] = df['BattingTeam1_SLG'] + df['BattingTeam2_SLG']\n",
    "# df['Combined_bullpen_k%'] = df['Bullpen1_K%'] + df['Bullpen2_K%']\n",
    "# df['combined_bp_bb%'] = df['Bullpen1_BB%'] + df['Bullpen2_BB%']\n",
    "# df['combnied_bp_WHIP'] = df['Bullpen1_WHIP'] + df['Bullpen2_WHIP']\n",
    "# df['combined_bp_HR/9'] = df['Bullpen1_HR/9'] + df['Bullpen2_HR/9']\n",
    "# df['combined_bp_ERA'] = df['Bullpen1_ERA'] + df['Bullpen2_ERA']\n"
   ]
  },
  {
   "cell_type": "markdown",
   "metadata": {},
   "source": [
    "# Modeling The Over/Under Predictions"
   ]
  },
  {
   "cell_type": "code",
   "execution_count": 11,
   "metadata": {
    "collapsed": true
   },
   "outputs": [],
   "source": [
    "# ESTABLISHING THE X AND Y FOR THE Over/Under MODEL. X WILL INCLUDE ALL STATISTICS FROM BOTH BATTING TEAMS \n",
    "# AND BOTH PITCHING TEAMS. NOT INCLUDING THE DIFFERENCE BTWN STATS, ONLY THE ADDITION OF STATS. \n",
    "\n",
    "X = df.drop(['Date', 'Pitcher1','Pitcher_Team1', 'Pitcher_Team2', 'BattingTeam1', 'BattingTeam2', 'Pitcher2',\n",
    "        'Pitcher_Team2', 'BattingTeam2', 'Line', 'Opponent_y', 'Over/Under', 'Score', 'Game Line', 'O/U', 'O/U Game Result',\n",
    "        'Total Runs in Game', 'Win/Loss Game', 'Actual Away Starter', 'Actual Home Starter', 'Bullpen_Team1', 'Bullpen_Team2', 'Over hit?',\n",
    "            'Winners', 'Home_Team_Win?', 'diff_SP_BB%','diff_SP_ERA','diff_SP_HR/9','diff_SP_K%', 'diff_SP_WHIP','diff_RBIs/Game',\n",
    "         'diff_Bat_AVG','diff_Bat_BABIP','diff_Bat_BB%','diff_Bat_K%','diff_Bat_OBP','diff_bat_slg','diff_bullpen_k%','diff_bp_bb%','diff_bp_WHIP',\n",
    "     'diff_bp_HR/9','diff_bp_ERA'], axis=1)\n",
    "\n",
    "\n",
    "y = df['Over hit?']"
   ]
  },
  {
   "cell_type": "code",
   "execution_count": 12,
   "metadata": {},
   "outputs": [
    {
     "data": {
      "text/plain": [
       "55"
      ]
     },
     "execution_count": 12,
     "metadata": {},
     "output_type": "execute_result"
    }
   ],
   "source": [
    "len(X.columns)"
   ]
  },
  {
   "cell_type": "code",
   "execution_count": 17,
   "metadata": {
    "collapsed": true
   },
   "outputs": [],
   "source": [
    "# FUNCTION FOR PRINTING OUT A CONFUSION MATRIX THAT WILL BE USED TO ANALYZE EACH MODEL\n",
    "\n",
    "def plot_confusion_matrix(cm, classes,\n",
    "                          normalize=False,\n",
    "                          title='Confusion matrix',\n",
    "                          cmap=plt.cm.Blues):\n",
    "    \"\"\"\n",
    "    This function prints and plots the confusion matrix.\n",
    "    Normalization can be applied by setting `normalize=True`.\n",
    "    \"\"\"\n",
    "    if normalize:\n",
    "        cm = cm.astype('float') / cm.sum(axis=1)[:, np.newaxis]\n",
    "        print(\"Normalized confusion matrix\")\n",
    "    else:\n",
    "        print('Confusion matrix, without normalization')\n",
    "\n",
    "    print(cm)\n",
    "\n",
    "    plt.imshow(cm, interpolation='nearest', cmap=cmap)\n",
    "    plt.title(title)\n",
    "    plt.colorbar()\n",
    "    tick_marks = np.arange(len(classes))\n",
    "    plt.xticks(tick_marks, classes, rotation=45)\n",
    "    plt.yticks(tick_marks, classes)\n",
    "\n",
    "    fmt = '.2f' if normalize else 'd'\n",
    "    thresh = cm.max() / 2.\n",
    "    for i, j in itertools.product(range(cm.shape[0]), range(cm.shape[1])):\n",
    "        plt.text(j, i, format(cm[i, j], fmt),\n",
    "                 horizontalalignment=\"center\",\n",
    "                 color=\"white\" if cm[i, j] > thresh else \"black\")\n",
    "\n",
    "    plt.tight_layout()\n",
    "    plt.ylabel('True label')\n",
    "    plt.xlabel('Predicted label')"
   ]
  },
  {
   "cell_type": "markdown",
   "metadata": {},
   "source": [
    "## XGBoost Model"
   ]
  },
  {
   "cell_type": "code",
   "execution_count": 45,
   "metadata": {},
   "outputs": [
    {
     "data": {
      "text/plain": [
       "<bound method XGBClassifier.get_params of XGBClassifier(base_score=0.5, colsample_bylevel=1, colsample_bytree=1,\n",
       "       gamma=0, learning_rate=0.1, max_delta_step=0, max_depth=3,\n",
       "       min_child_weight=1, missing=None, n_estimators=100, nthread=-1,\n",
       "       objective='binary:logistic', reg_alpha=0, reg_lambda=1,\n",
       "       scale_pos_weight=1, seed=0, silent=True, subsample=1)>"
      ]
     },
     "execution_count": 45,
     "metadata": {},
     "output_type": "execute_result"
    }
   ],
   "source": [
    "XGBClassifier().get_params"
   ]
  },
  {
   "cell_type": "code",
   "execution_count": 86,
   "metadata": {
    "scrolled": false
   },
   "outputs": [
    {
     "name": "stdout",
     "output_type": "stream",
     "text": [
      "Fitting 5 folds for each of 48 candidates, totalling 240 fits\n"
     ]
    },
    {
     "name": "stderr",
     "output_type": "stream",
     "text": [
      "[Parallel(n_jobs=1)]: Done 240 out of 240 | elapsed:  5.3min finished\n"
     ]
    },
    {
     "name": "stdout",
     "output_type": "stream",
     "text": [
      "0.520500077652\n",
      "{'n_estimators': 26, 'max_depth': 9, 'gamma': 10.0}\n"
     ]
    }
   ],
   "source": [
    "model = XGBClassifier()\n",
    "\n",
    "# setting up xgboost parameters\n",
    "max_depth = [3,5,7,9]\n",
    "gamma_range = 10.**np.arange(1, 4)\n",
    "n_estimators = [20,23,26,30]\n",
    "\n",
    "\n",
    "# setting up GridSearch\n",
    "grid = GridSearchCV(estimator=model, cv=5, verbose=1, scoring='accuracy', param_grid=dict(max_depth=max_depth, \n",
    "                                                                              n_estimators=n_estimators,\n",
    "                                                                              gamma=gamma_range))\n",
    "                                                                          \n",
    "\n",
    "# fitting model\n",
    "grid.fit(X, y)\n",
    "\n",
    "print grid.best_score_\n",
    "print grid.best_params_"
   ]
  },
  {
   "cell_type": "code",
   "execution_count": 37,
   "metadata": {
    "scrolled": false
   },
   "outputs": [],
   "source": [
    "# SETTING UP XGB CLASSIFIER UTILIZING BEST PARAMETERS FROM GRID SEARCH\n",
    "model = XGBClassifier(n_estimators=26, max_depth=10, gamma=100.0)\n",
    "\n",
    "# FITTING MODEL\n",
    "model.fit(X_train, y_train)\n",
    "\n",
    "# PREDICTING TEST SET\n",
    "y_preds = model.predict(X_test)\n",
    "\n",
    "y_preds2 = model.predict_proba(X_test)\n"
   ]
  },
  {
   "cell_type": "code",
   "execution_count": 39,
   "metadata": {},
   "outputs": [
    {
     "data": {
      "text/plain": [
       "0.51529411764705879"
      ]
     },
     "execution_count": 39,
     "metadata": {},
     "output_type": "execute_result"
    }
   ],
   "source": [
    "accuracy_score(y_test, y_preds)"
   ]
  },
  {
   "cell_type": "code",
   "execution_count": 43,
   "metadata": {},
   "outputs": [
    {
     "name": "stdout",
     "output_type": "stream",
     "text": [
      "Confusion matrix, without normalization\n",
      "[[2190    0]\n",
      " [2060    0]]\n",
      "Normalized confusion matrix\n",
      "[[ 1.  0.]\n",
      " [ 1.  0.]]\n"
     ]
    },
    {
     "data": {
      "image/png": "[encoded data removed]",
      "text/plain": [
       "<matplotlib.figure.Figure at 0x109927e90>"
      ]
     },
     "metadata": {},
     "output_type": "display_data"
    },
    {
     "data": {
      "image/png": "[encoded data removed]",
      "text/plain": [
       "<matplotlib.figure.Figure at 0x112eea490>"
      ]
     },
     "metadata": {},
     "output_type": "display_data"
    }
   ],
   "source": [
    "# PRINTING OUT CONFUSION MATRIX OF ABOVE MODEL\n",
    "\n",
    "class_names = y.unique()\n",
    "\n",
    "# Compute confusion matrix\n",
    "cnf_matrix = confusion_matrix(y_test, y_preds)\n",
    "np.set_printoptions(precision=2)\n",
    "\n",
    "# Plot non-normalized confusion matrix\n",
    "plt.figure()\n",
    "plot_confusion_matrix(cnf_matrix, classes=class_names,\n",
    "                      title='Confusion matrix, without normalization')\n",
    "\n",
    "# Plot normalized confusion matrix\n",
    "plt.figure()\n",
    "plot_confusion_matrix(cnf_matrix, classes=class_names, normalize=True,\n",
    "                      title='Normalized confusion matrix')\n",
    "\n",
    "plt.show()"
   ]
  },
  {
   "cell_type": "markdown",
   "metadata": {},
   "source": [
    "## Random Forest Classifier"
   ]
  },
  {
   "cell_type": "code",
   "execution_count": 69,
   "metadata": {},
   "outputs": [
    {
     "name": "stdout",
     "output_type": "stream",
     "text": [
      "Fitting 5 folds for each of 160 candidates, totalling 800 fits\n"
     ]
    },
    {
     "name": "stderr",
     "output_type": "stream",
     "text": [
      "[Parallel(n_jobs=1)]: Done 800 out of 800 | elapsed:  1.5min finished\n"
     ]
    },
    {
     "name": "stdout",
     "output_type": "stream",
     "text": [
      "0.520500077652\n",
      "{'max_features': 'log2', 'n_estimators': 10, 'criterion': 'entropy', 'max_depth': 4}\n"
     ]
    }
   ],
   "source": [
    "clf = RandomForestClassifier()\n",
    "\n",
    "# setting grid-searching parameters:\n",
    "n_estimators = [1,2,4,8,10]\n",
    "criterion = ['gini', 'entropy']\n",
    "max_features = ['auto', 'log2', 3, 8]\n",
    "max_depth = [1,2,4, 8]\n",
    "\n",
    "grid = GridSearchCV(estimator=clf, cv=5, verbose=1, scoring='accuracy', param_grid=dict(n_estimators=n_estimators,\n",
    "                                                                             criterion=criterion,\n",
    "                                                                             max_features=max_features,\n",
    "                                                                             max_depth=max_depth))\n",
    "\n",
    "grid.fit(X, y)\n",
    "\n",
    "print grid.best_score_\n",
    "print grid.best_params_"
   ]
  },
  {
   "cell_type": "code",
   "execution_count": 45,
   "metadata": {
    "collapsed": true
   },
   "outputs": [],
   "source": [
    "# SETTING UP RANDOM FOREST MODEL UTILIZING OPTIMAL FEATURES FROM ABOVE GRID SEARCH\n",
    "clf = RandomForestClassifier(max_features='log2', n_estimators=10, criterion='entropy', max_depth=4)\n",
    "\n",
    "clf.fit(X_train, y_train)\n",
    "\n",
    "y_pred = clf.predict(X_test)"
   ]
  },
  {
   "cell_type": "code",
   "execution_count": 46,
   "metadata": {},
   "outputs": [
    {
     "data": {
      "text/plain": [
       "0.51129411764705879"
      ]
     },
     "execution_count": 46,
     "metadata": {},
     "output_type": "execute_result"
    }
   ],
   "source": [
    "# PRINTING ACCURACY SCORE OF ABOVE MODEL\n",
    "accuracy_score(y_test, y_pred)"
   ]
  },
  {
   "cell_type": "code",
   "execution_count": 48,
   "metadata": {},
   "outputs": [
    {
     "name": "stdout",
     "output_type": "stream",
     "text": [
      "Confusion matrix, without normalization\n",
      "[[1807  383]\n",
      " [1694  366]]\n",
      "Normalized confusion matrix\n",
      "[[ 0.83  0.17]\n",
      " [ 0.82  0.18]]\n"
     ]
    },
    {
     "data": {
      "image/png": "[encoded data removed]",
      "text/plain": [
       "<matplotlib.figure.Figure at 0x107dbc250>"
      ]
     },
     "metadata": {},
     "output_type": "display_data"
    },
    {
     "data": {
      "image/png": "[encoded data removed]",
      "text/plain": [
       "<matplotlib.figure.Figure at 0x112e41990>"
      ]
     },
     "metadata": {},
     "output_type": "display_data"
    }
   ],
   "source": [
    "# PRINTING OUT CONFUSION MATRIX OF ABOVE MODEL\n",
    "\n",
    "# Compute confusion matrix\n",
    "cnf_matrix = confusion_matrix(y_test, y_pred)\n",
    "np.set_printoptions(precision=2)\n",
    "\n",
    "# Plot non-normalized confusion matrix\n",
    "plt.figure()\n",
    "plot_confusion_matrix(cnf_matrix, classes=class_names,\n",
    "                      title='Confusion matrix, without normalization')\n",
    "\n",
    "# Plot normalized confusion matrix\n",
    "plt.figure()\n",
    "plot_confusion_matrix(cnf_matrix, classes=class_names, normalize=True,\n",
    "                      title='Normalized confusion matrix')\n",
    "\n",
    "plt.show()"
   ]
  },
  {
   "cell_type": "code",
   "execution_count": 64,
   "metadata": {},
   "outputs": [
    {
     "data": {
      "text/plain": [
       "0.51411764705882357"
      ]
     },
     "execution_count": 64,
     "metadata": {},
     "output_type": "execute_result"
    }
   ],
   "source": [
    "# SETTING UP RANDOM FOREST MODEL UTILIZING OPTIMAL FEATURES FROM ABOVE GRID SEARCH\n",
    "clf = RandomForestClassifier(max_features='auto', n_estimators=5, criterion='entropy', max_depth=3)\n",
    "\n",
    "clf.fit(X_train, y_train)\n",
    "\n",
    "y_pred = clf.predict(X_test)\n",
    "\n",
    "accuracy_score(y_test, y_pred)"
   ]
  },
  {
   "cell_type": "code",
   "execution_count": 65,
   "metadata": {},
   "outputs": [
    {
     "name": "stdout",
     "output_type": "stream",
     "text": [
      "Confusion matrix, without normalization\n",
      "[[1924  266]\n",
      " [1799  261]]\n",
      "Normalized confusion matrix\n",
      "[[ 0.88  0.12]\n",
      " [ 0.87  0.13]]\n"
     ]
    },
    {
     "data": {
      "image/png": "[encoded data removed]",
      "text/plain": [
       "<matplotlib.figure.Figure at 0x11b461310>"
      ]
     },
     "metadata": {},
     "output_type": "display_data"
    },
    {
     "data": {
      "image/png": "[encoded data removed]",
      "text/plain": [
       "<matplotlib.figure.Figure at 0x107dab090>"
      ]
     },
     "metadata": {},
     "output_type": "display_data"
    }
   ],
   "source": [
    "# PRINTING OUT CONFUSION MATRIX OF ABOVE MODEL\n",
    "\n",
    "# Compute confusion matrix\n",
    "cnf_matrix = confusion_matrix(y_test, y_pred)\n",
    "np.set_printoptions(precision=2)\n",
    "\n",
    "# Plot non-normalized confusion matrix\n",
    "plt.figure()\n",
    "plot_confusion_matrix(cnf_matrix, classes=class_names,\n",
    "                      title='Confusion matrix, without normalization')\n",
    "\n",
    "# Plot normalized confusion matrix\n",
    "plt.figure()\n",
    "plot_confusion_matrix(cnf_matrix, classes=class_names, normalize=True,\n",
    "                      title='Normalized confusion matrix')\n",
    "\n",
    "plt.show()"
   ]
  },
  {
   "cell_type": "markdown",
   "metadata": {},
   "source": [
    "## Logistic Regression"
   ]
  },
  {
   "cell_type": "code",
   "execution_count": 66,
   "metadata": {
    "collapsed": true
   },
   "outputs": [],
   "source": [
    "from sklearn.linear_model import LogisticRegressionCV\n",
    "from sklearn.linear_model import LogisticRegression"
   ]
  },
  {
   "cell_type": "code",
   "execution_count": 69,
   "metadata": {
    "collapsed": true
   },
   "outputs": [],
   "source": [
    "# NORMALIZING FEATURES FOR LOGISTIC REGRESSION MODEL\n",
    "X_norm = preprocessing.normalize(X)\n",
    "\n",
    "Xtrain_norm = preprocessing.normalize(X_train)"
   ]
  },
  {
   "cell_type": "code",
   "execution_count": 70,
   "metadata": {},
   "outputs": [],
   "source": [
    "# running simple Logistic Regression Before Grid Searching to see accuracy of model performs\n",
    "model = LogisticRegression()\n",
    "\n",
    "model.fit(Xtrain_norm, y_train)\n",
    "\n",
    "y_preds = model.predict(X_test)"
   ]
  },
  {
   "cell_type": "code",
   "execution_count": 71,
   "metadata": {},
   "outputs": [
    {
     "data": {
      "text/plain": [
       "0.49176470588235294"
      ]
     },
     "execution_count": 71,
     "metadata": {},
     "output_type": "execute_result"
    }
   ],
   "source": [
    "accuracy_score(y_test, y_preds)"
   ]
  },
  {
   "cell_type": "code",
   "execution_count": 79,
   "metadata": {},
   "outputs": [
    {
     "name": "stdout",
     "output_type": "stream",
     "text": [
      "Fitting 5 folds for each of 28 candidates, totalling 140 fits\n"
     ]
    },
    {
     "name": "stderr",
     "output_type": "stream",
     "text": [
      "[Parallel(n_jobs=1)]: Done 140 out of 140 | elapsed: 22.7min finished\n"
     ]
    },
    {
     "name": "stdout",
     "output_type": "stream",
     "text": [
      "0.518947041466\n",
      "{'penalty': 'l2', 'C': 1, 'class_weight': None}\n"
     ]
    }
   ],
   "source": [
    "## GRIDSEARCHING LOGISTIC REGRESSION\n",
    "model = LogisticRegression()\n",
    "\n",
    "# establishing parameters to gridsearch\n",
    "penalty = ['l1', 'l2']\n",
    "C = [0.001, 0.01, 0.1, 1, 10, 100, 1000]\n",
    "class_weights = ['balanced', None]\n",
    "\n",
    "\n",
    "grid = GridSearchCV(estimator=model, cv=5, verbose=1, scoring='accuracy', param_grid=dict(penalty=penalty,\n",
    "                                                                              C=C,\n",
    "                                                                              class_weight = class_weights))\n",
    "\n",
    "\n",
    "grid.fit(X,y)\n",
    "\n",
    "print grid.best_score_\n",
    "print grid.best_params_"
   ]
  },
  {
   "cell_type": "code",
   "execution_count": 72,
   "metadata": {
    "collapsed": true
   },
   "outputs": [],
   "source": [
    "model = LogisticRegression(penalty = 'l2', C=1.0, class_weight=None)\n",
    "\n",
    "model.fit(Xtrain_norm, y_train)\n",
    "\n",
    "preds = model.predict(X_test)"
   ]
  },
  {
   "cell_type": "code",
   "execution_count": 73,
   "metadata": {},
   "outputs": [
    {
     "data": {
      "text/plain": [
       "0.49176470588235294"
      ]
     },
     "execution_count": 73,
     "metadata": {},
     "output_type": "execute_result"
    }
   ],
   "source": [
    "accuracy_score(y_test, y_preds)"
   ]
  },
  {
   "cell_type": "code",
   "execution_count": 74,
   "metadata": {},
   "outputs": [
    {
     "name": "stdout",
     "output_type": "stream",
     "text": [
      "Confusion matrix, without normalization\n",
      "[[ 111 2079]\n",
      " [  81 1979]]\n",
      "Normalized confusion matrix\n",
      "[[ 0.05  0.95]\n",
      " [ 0.04  0.96]]\n"
     ]
    },
    {
     "data": {
      "image/png": "[encoded data removed]",
      "text/plain": [
       "<matplotlib.figure.Figure at 0x1150c9d90>"
      ]
     },
     "metadata": {},
     "output_type": "display_data"
    },
    {
     "data": {
      "image/png": "[encoded data removed]",
      "text/plain": [
       "<matplotlib.figure.Figure at 0x1161e70d0>"
      ]
     },
     "metadata": {},
     "output_type": "display_data"
    }
   ],
   "source": [
    "# Compute confusion matrix\n",
    "cnf_matrix = confusion_matrix(y_test, preds)\n",
    "np.set_printoptions(precision=2)\n",
    "\n",
    "# Plot non-normalized confusion matrix\n",
    "plt.figure()\n",
    "plot_confusion_matrix(cnf_matrix, classes=class_names,\n",
    "                      title='Confusion matrix, without normalization')\n",
    "\n",
    "# Plot normalized confusion matrix\n",
    "plt.figure()\n",
    "plot_confusion_matrix(cnf_matrix, classes=class_names, normalize=True,\n",
    "                      title='Normalized confusion matrix')\n",
    "\n",
    "plt.show()"
   ]
  }
 ],
 "metadata": {
  "kernelspec": {
   "display_name": "Python 2",
   "language": "python",
   "name": "python2"
  },
  "language_info": {
   "codemirror_mode": {
    "name": "ipython",
    "version": 2
   },
   "file_extension": ".py",
   "mimetype": "text/x-python",
   "name": "python",
   "nbconvert_exporter": "python",
   "pygments_lexer": "ipython2",
   "version": "2.7.13"
  }
 },
 "nbformat": 4,
 "nbformat_minor": 2
}
